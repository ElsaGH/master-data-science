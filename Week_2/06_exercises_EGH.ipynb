{
 "cells": [
  {
   "cell_type": "code",
   "execution_count": 27,
   "metadata": {},
   "outputs": [],
   "source": [
    "def number_of(string):\n",
    "    words=string.split()\n",
    "    len_words=len(words)\n",
    "    lines=string.count(\"\\n\") + 1    \n",
    "    length_string=len(string)\n",
    "        \n",
    "    return(\"tiene %d palabras, %d lineas y %d caracteres\") % (len_words, lines, length_string)"
   ]
  },
  {
   "cell_type": "code",
   "execution_count": 29,
   "metadata": {},
   "outputs": [
    {
     "data": {
      "text/plain": [
       "'tiene 3 palabras, 3 lineas y 12 caracteres'"
      ]
     },
     "execution_count": 29,
     "metadata": {},
     "output_type": "execute_result"
    }
   ],
   "source": [
    "number_of('''hola\n",
    "que\n",
    "tal''')"
   ]
  },
  {
   "cell_type": "code",
   "execution_count": 37,
   "metadata": {},
   "outputs": [],
   "source": [
    "def my_grep(file_name, pattern):\n",
    "    text_from_file =! cat $file_name\n",
    "    repetitions = text_from_file.s.upper().count(pattern.upper())\n",
    "    \n",
    "    return repetitions\n",
    "    "
   ]
  },
  {
   "cell_type": "code",
   "execution_count": 32,
   "metadata": {},
   "outputs": [
    {
     "name": "stdout",
     "output_type": "stream",
     "text": [
      " El volumen de la unidad C es Windows-SSD\n",
      " El n£mero de serie del volumen es: 0C69-8385\n",
      "\n",
      " Directorio de C:\\Users\\elsag\\Documents\\MSc Data Science\\Week 2\n",
      "\n",
      "26/10/2019  13:57    <DIR>          .\n",
      "26/10/2019  13:57    <DIR>          ..\n",
      "26/10/2019  13:33    <DIR>          .ipynb_checkpoints\n",
      "26/10/2019  11:00           296.744 01_intro_to_notebook_inclass.ipynb\n",
      "26/10/2019  11:45             4.665 02_flow_control_inclass.ipynb\n",
      "26/10/2019  12:29            12.744 03_functions_and_import_inclass.ipynb\n",
      "26/10/2019  12:55            14.444 04_Scalar_Types_inclass.ipynb\n",
      "26/10/2019  13:33            19.708 05_shell_and_magic_inclass.ipynb\n",
      "26/10/2019  13:57             1.634 06_exercises_inclass.ipynb\n",
      "24/10/2019  18:43           204.754 Master_class_03v18.pdf\n",
      "24/10/2019  18:44         1.675.027 Master_class_04-05v18.pdf\n",
      "25/10/2019  21:36            15.541 Script.PNG\n",
      "               9 archivos      2.245.261 bytes\n",
      "               3 dirs  180.935.065.600 bytes libres\n"
     ]
    }
   ],
   "source": [
    "ls"
   ]
  },
  {
   "cell_type": "code",
   "execution_count": 33,
   "metadata": {},
   "outputs": [],
   "source": [
    "text_from_file =! cat 01_intro_to_notebook_inclass.ipynb"
   ]
  },
  {
   "cell_type": "code",
   "execution_count": 36,
   "metadata": {},
   "outputs": [
    {
     "data": {
      "text/plain": [
       "str"
      ]
     },
     "execution_count": 36,
     "metadata": {},
     "output_type": "execute_result"
    }
   ],
   "source": [
    "type(text_from_file.s)"
   ]
  },
  {
   "cell_type": "code",
   "execution_count": 39,
   "metadata": {},
   "outputs": [
    {
     "data": {
      "text/plain": [
       "8340"
      ]
     },
     "execution_count": 39,
     "metadata": {},
     "output_type": "execute_result"
    }
   ],
   "source": [
    "my_grep('01_intro_to_notebook_inclass.ipynb', 's')"
   ]
  },
  {
   "cell_type": "code",
   "execution_count": 1,
   "metadata": {},
   "outputs": [],
   "source": [
    "def number(string):\n",
    "    words=string.split()\n",
    "    length_words=len(words)\n",
    "    lines=string.count(\"\\n\") + 1\n",
    "    length_string=len(string)\n",
    "    return(\"tiene %d palabras, %d líneas y %d caracteres\") % (length_words, lines, length_string)\n",
    "    "
   ]
  },
  {
   "cell_type": "code",
   "execution_count": 2,
   "metadata": {},
   "outputs": [
    {
     "data": {
      "text/plain": [
       "'tiene 3 palabras, 1 líneas y 12 caracteres'"
      ]
     },
     "execution_count": 2,
     "metadata": {},
     "output_type": "execute_result"
    }
   ],
   "source": [
    "number(\"hola que tal\")"
   ]
  }
 ],
 "metadata": {
  "kernelspec": {
   "display_name": "Python 3",
   "language": "python",
   "name": "python3"
  },
  "language_info": {
   "codemirror_mode": {
    "name": "ipython",
    "version": 3
   },
   "file_extension": ".py",
   "mimetype": "text/x-python",
   "name": "python",
   "nbconvert_exporter": "python",
   "pygments_lexer": "ipython3",
   "version": "3.7.1"
  }
 },
 "nbformat": 4,
 "nbformat_minor": 2
}
